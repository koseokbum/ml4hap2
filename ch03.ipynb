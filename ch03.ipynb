{
 "cells": [
  {
   "cell_type": "markdown",
   "id": "6d788558-2773-461a-b2e8-ae5001ad38d5",
   "metadata": {},
   "source": [
    "# DNA 분류하기"
   ]
  },
  {
   "cell_type": "markdown",
   "id": "69fae2a5",
   "metadata": {},
   "source": [
    "이 장에서는 생물정보학의 세계를 탐구한다. 우리는 마르코프 모델(Markov model), K-근접 이웃(K-nearest neighbors algorithms), 서포트 벡터 머신(support vector machine) 같은 분류기를 사용하여 대장균 DNA 염기서열을 분류해 볼 것이다. UCI 머신러닝 데이터 저장소에 있는 106개의 DNA 염기서열 데이터를 이용한다. 각각에는 57개의 염기서열을 가고 있다. 데이터를 로딩한 다음 텍스트 데이터를 숫자형 데이터로 변환하고, 분류 알고리즘을 만들어 학습시키고, 머신 러닝 알고리즘들의 성능을 서로 비교해 볼 것이다.\n",
    "\n",
    "이 장에서 다음 주제를 다룬다.\n",
    "\n",
    "- DNA 염기 서열 분류\n",
    "- 데이터 전처리"
   ]
  },
  {
   "cell_type": "markdown",
   "id": "bd156301",
   "metadata": {},
   "source": [
    "## DNA 염기서열 분류\n",
    "\n",
    "\n",
    "항상 그렇듯 처음 단계는 필요한 라이브러리와 모듈을 임포하고, 그 버전을 확인하는 것이다. 다음 코드를 사용한다. "
   ]
  },
  {
   "cell_type": "code",
   "execution_count": 1,
   "id": "802edd54",
   "metadata": {
    "echo": true
   },
   "outputs": [
    {
     "name": "stdout",
     "output_type": "stream",
     "text": [
      "Python: 3.8.6 | packaged by conda-forge | (default, Jan 25 2021, 23:22:12) \n",
      "[Clang 11.0.1 ]\n",
      "Numpy: 1.20.2\n",
      "Sklearn: 0.24.2\n",
      "Pandas: 1.2.4\n"
     ]
    }
   ],
   "source": [
    "import sys\n",
    "import numpy\n",
    "import sklearn\n",
    "import pandas\n",
    "\n",
    "print('Python: {}'.format(sys.version))\n",
    "print('Numpy: {}'.format(numpy.__version__))\n",
    "print('Sklearn: {}'.format(sklearn.__version__))\n",
    "print('Pandas: {}'.format(pandas.__version__))"
   ]
  },
  {
   "cell_type": "markdown",
   "id": "53e580d5",
   "metadata": {},
   "source": [
    "다음은 UCI 머신러닝 데이터 저장소 <https://archive.ics.uci.edu/ml/machine-learning-databases/molecular-biology/promoter-gene-sequences/>에서 분자 생물학(프로모터 유전자 염기서열) 데이터셋을 가지고 온다. 그리고 데이터셋의 열 이름 `Class`, `id`, `Sequence`을 부여한다. \n"
   ]
  },
  {
   "cell_type": "code",
   "execution_count": 2,
   "id": "fdf96a3c",
   "metadata": {
    "lines_to_next_cell": 2
   },
   "outputs": [],
   "source": [
    "import numpy as np\n",
    "import pandas as pd\n",
    "url = 'https://archive.ics.uci.edu/ml/machine-learning-databases/molecular-biology/promoter-gene-sequences/promoters.data'\n",
    "names = ['Class', 'id', 'Sequence']\n",
    "data = pd.read_csv(url, names = names)"
   ]
  },
  {
   "cell_type": "code",
   "execution_count": 3,
   "id": "44197b26",
   "metadata": {
    "echo": true
   },
   "outputs": [
    {
     "name": "stdout",
     "output_type": "stream",
     "text": [
      "Class                                                       +\n",
      "id                                                        S10\n",
      "Sequence    \\t\\ttactagcaatacgcttgcgttcggtggttaagtatgtataat...\n",
      "Name: 0, dtype: object\n"
     ]
    }
   ],
   "source": [
    "print(data.iloc[0])"
   ]
  },
  {
   "cell_type": "markdown",
   "id": "9185cbe8",
   "metadata": {},
   "source": [
    "### 데이터 전처리 "
   ]
  },
  {
   "cell_type": "code",
   "execution_count": 4,
   "id": "b4394b02",
   "metadata": {
    "echo": true
   },
   "outputs": [
    {
     "name": "stdout",
     "output_type": "stream",
     "text": [
      "0    +\n",
      "1    +\n",
      "2    +\n",
      "3    +\n",
      "4    +\n",
      "Name: Class, dtype: object\n"
     ]
    }
   ],
   "source": [
    "classes = data.loc[:, 'Class']\n",
    "print(classes[:5])"
   ]
  },
  {
   "cell_type": "markdown",
   "id": "6aa7be81",
   "metadata": {},
   "source": [
    "## 머신 러닝을 이용한 염기 서열 분류\n",
    "\n",
    "다음은 DNA 염기서열로 구성된 데이터셋을 만드는 과정이다."
   ]
  },
  {
   "cell_type": "code",
   "execution_count": 5,
   "id": "e1ee6d44",
   "metadata": {
    "echo": true
   },
   "outputs": [
    {
     "name": "stdout",
     "output_type": "stream",
     "text": [
      "['t', 'a', 'c', 't', 'a', 'g', 'c', 'a', 'a', 't', 'a', 'c', 'g', 'c', 't', 't', 'g', 'c', 'g', 't', 't', 'c', 'g', 'g', 't', 'g', 'g', 't', 't', 'a', 'a', 'g', 't', 'a', 't', 'g', 't', 'a', 't', 'a', 'a', 't', 'g', 'c', 'g', 'c', 'g', 'g', 'g', 'c', 't', 't', 'g', 't', 'c', 'g', 't', '+']\n"
     ]
    }
   ],
   "source": [
    "# DNA 염기서열이 들어갈 리스트 만들기\n",
    "sequences = list(data.loc[:, 'Sequence'])\n",
    "dataset = {}\n",
    "\n",
    "# 염기서열을 순회하면서 개별 뉴클레오타이드로 분리 \n",
    "for i, seq in enumerate(sequences):\n",
    "    # 뉴클레오타이드로 나누고 탭 문자열을 제거 \n",
    "    nucleotides = list(seq)\n",
    "    nucleotides = [x for x in nucleotides if x != '\\t']\n",
    "    \n",
    "    # 끝에, 앞에서 만든 classe 시리즈에서 값을 가지고 옴\n",
    "    nucleotides.append(classes[i])\n",
    "    \n",
    "    # 데이터셋에 추가 \n",
    "    dataset[i] = nucleotides\n",
    "\n",
    "print(dataset[0])"
   ]
  },
  {
   "cell_type": "code",
   "execution_count": 6,
   "id": "729744b1",
   "metadata": {
    "echo": true
   },
   "outputs": [
    {
     "name": "stdout",
     "output_type": "stream",
     "text": [
      "   0   1   2   3   4   5   6   7   8   9    ... 96  97  98  99  100 101 102  \\\n",
      "0    t   t   g   a   t   a   c   t   c   t  ...   c   c   t   a   g   c   g   \n",
      "1    a   g   t   a   c   g   a   t   g   t  ...   c   g   a   g   a   c   t   \n",
      "2    c   c   a   t   g   g   g   t   a   t  ...   g   c   t   a   g   t   a   \n",
      "3    t   t   c   t   a   g   g   c   c   t  ...   a   t   g   g   a   c   t   \n",
      "4    a   a   t   g   t   g   g   t   t   a  ...   g   a   a   g   g   a   t   \n",
      "5    g   t   a   t   a   c   g   a   t   a  ...   t   g   c   g   c   a   c   \n",
      "6    c   c   g   g   a   a   g   c   a   a  ...   a   g   c   t   a   t   t   \n",
      "7    a   c   a   a   t   a   t   a   a   t  ...   g   a   g   g   t   g   c   \n",
      "8    a   t   g   t   t   g   g   a   t   t  ...   a   c   a   t   g   g   a   \n",
      "9    t   g   a   g   a   g   g   a   a   t  ...   c   t   a   a   t   c   a   \n",
      "10   a   a   a   t   a   a   a   a   t   c  ...   c   t   c   c   c   c   c   \n",
      "11   c   c   c   g   c   g   g   c   a   c  ...   c   t   g   t   a   t   a   \n",
      "12   g   a   t   t   t   g   g   a   c   t  ...   t   c   a   c   g   c   a   \n",
      "13   c   g   a   a   a   a   a   c   t   c  ...   t   t   g   c   c   t   g   \n",
      "14   t   t   g   t   t   t   t   t   g   t  ...   a   t   t   a   c   a   a   \n",
      "15   t   t   t   c   t   g   t   t   c   t  ...   g   g   c   a   t   a   t   \n",
      "16   g   g   g   g   g   g   t   g   g   g  ...   a   t   a   g   c   a   t   \n",
      "17   c   t   c   a   a   a   a   a   a   t  ...   g   t   a   a   g   c   a   \n",
      "18   g   c   a   a   c   a   a   t   c   c  ...   a   g   t   a   a   g   a   \n",
      "19   t   a   t   g   g   a   g   a   a   a  ...   g   a   c   g   c   g   c   \n",
      "20   t   c   t   t   a   g   c   c   g   g  ...   c   t   a   a   a   g   c   \n",
      "21   c   g   a   g   a   a   c   t   g   g  ...   a   t   g   g   a   t   g   \n",
      "22   g   c   g   t   a   g   a   g   a   c  ...   t   t   a   g   c   c   a   \n",
      "23   g   t   c   g   a   g   t   t   c   c  ...   g   t   c   a   t   t   c   \n",
      "24   t   g   t   t   g   t   c   a   g   g  ...   t   c   c   a   t   t   a   \n",
      "25   g   a   t   t   c   t   t   t   t   g  ...   c   c   g   g   g   g   g   \n",
      "26   g   t   a   g   t   g   c   g   c   a  ...   a   a   c   a   c   a   a   \n",
      "27   t   t   t   c   g   c   c   a   c   a  ...   g   t   t   t   a   g   t   \n",
      "28   t   g   t   g   a   c   t   g   g   t  ...   c   g   t   g   t   g   t   \n",
      "29   a   g   t   g   a   g   g   c   t   a  ...   c   c   t   a   a   g   c   \n",
      "30   a   t   t   a   a   t   a   a   t   a  ...   t   g   g   g   a   g   a   \n",
      "31   g   g   t   g   a   a   t   t   c   c  ...   c   g   a   g   a   t   a   \n",
      "32   t   t   t   t   c   t   g   a   t   t  ...   g   t   c   c   t   t   t   \n",
      "33   a   c   t   a   c   a   a   c   g   c  ...   a   g   t   t   g   t   c   \n",
      "34   t   g   g   g   a   a   c   a   t   c  ...   c   t   c   a   c   t   t   \n",
      "35   g   t   t   a   c   a   g   g   g   c  ...   a   t   t   g   t   t   c   \n",
      "36   t   t   t   t   t   g   c   t   t   t  ...   a   t   g   a   t   t   g   \n",
      "37   a   a   a   g   a   a   a   a   a   a  ...   c   t   g   c   t   g   t   \n",
      "38   t   c   t   t   g   a   t   t   a   t  ...   t   g   t   g   c   c   g   \n",
      "39   a   a   c   t   a   a   a   a   a   a  ...   t   c   a   t   t   t   g   \n",
      "40   a   a   a   a   a   c   g   a   t   a  ...   g   g   t   c   t   g   a   \n",
      "41   t   t   t   g   t   t   t   t   c   t  ...   c   c   t   t   g   a   t   \n",
      "42   g   c   g   a   g   a   c   t   g   g  ...   a   a   a   c   t   a   g   \n",
      "43   c   t   c   a   c   g   a   g   c   c  ...   t   a   c   t   a   a   g   \n",
      "44   g   a   t   t   g   a   g   c   a   g  ...   a   t   t   g   g   g   a   \n",
      "45   c   a   a   a   c   g   c   t   a   c  ...   a   g   g   c   a   g   c   \n",
      "46   g   c   a   c   c   t   c   t   t   c  ...   a   t   t   a   c   a   g   \n",
      "47   g   g   c   t   t   c   c   c   g   a  ...   t   t   g   t   g   g   t   \n",
      "48   g   c   c   a   c   c   a   a   a   c  ...   g   a   a   g   t   g   t   \n",
      "49   c   a   a   a   c   g   t   a   a   c  ...   c   a   a   g   g   a   c   \n",
      "50   t   t   c   c   g   t   c   c   a   a  ...   t   t   c   a   c   a   a   \n",
      "51   t   c   c   a   t   t   a   a   t   c  ...   t   c   a   g   c   c   a   \n",
      "52   g   g   c   a   g   t   t   g   g   t  ...   t   g   t   t   c   t   c   \n",
      "53   t   c   g   a   g   a   g   a   g   g  ...   c   c   t   a   t   a   a   \n",
      "54   c   c   g   c   t   g   a   a   t   a  ...   t   t   a   t   a   t   t   \n",
      "55   g   a   c   t   a   g   a   c   t   c  ...   t   t   t   g   c   a   t   \n",
      "56   t   a   g   c   g   t   t   a   t   a  ...   g   t   t   a   g   t   g   \n",
      "57   +   +   +   +   +   +   +   +   +   +  ...   -   -   -   -   -   -   -   \n",
      "\n",
      "   103 104 105  \n",
      "0    c   c   t  \n",
      "1    g   t   a  \n",
      "2    c   c   a  \n",
      "3    g   g   c  \n",
      "4    a   t   a  \n",
      "5    c   c   t  \n",
      "6    t   c   t  \n",
      "7    a   t   a  \n",
      "8    c   c   a  \n",
      "9    g   a   t  \n",
      "10   a   a   a  \n",
      "11   t   t   a  \n",
      "12   g   g   a  \n",
      "13   a   g   t  \n",
      "14   g   c   a  \n",
      "15   a   c   a  \n",
      "16   t   t   g  \n",
      "17   g   c   g  \n",
      "18   c   t   a  \n",
      "19   c   a   g  \n",
      "20   t   a   g  \n",
      "21   g   a   c  \n",
      "22   a   c   t  \n",
      "23   g   g   c  \n",
      "24   t   g   t  \n",
      "25   g   g   a  \n",
      "26   c   t   a  \n",
      "27   t   c   t  \n",
      "28   t   t   g  \n",
      "29   c   t   g  \n",
      "30   c   g   c  \n",
      "31   g   a   a  \n",
      "32   t   g   c  \n",
      "33   t   g   t  \n",
      "34   a   g   c  \n",
      "35   c   g   a  \n",
      "36   t   t   t  \n",
      "37   g   t   t  \n",
      "38   g   t   a  \n",
      "39   a   t   g  \n",
      "40   t   t   c  \n",
      "41   t   t   c  \n",
      "42   g   g   a  \n",
      "43   t   c   a  \n",
      "44   c   t   t  \n",
      "45   a   g   c  \n",
      "46   c   a   a  \n",
      "47   c   a   a  \n",
      "48   a   a   t  \n",
      "49   a   g   c  \n",
      "50   g   g   a  \n",
      "51   g   a   a  \n",
      "52   c   g   g  \n",
      "53   t   g   a  \n",
      "54   t   a   a  \n",
      "55   c   a   c  \n",
      "56   c   c   t  \n",
      "57   -   -   -  \n",
      "\n",
      "[58 rows x 106 columns]\n"
     ]
    }
   ],
   "source": [
    "dframe = pd.DataFrame(dataset)\n",
    "print(dframe)"
   ]
  },
  {
   "cell_type": "code",
   "execution_count": 7,
   "id": "a6499200",
   "metadata": {
    "echo": true
   },
   "outputs": [
    {
     "name": "stdout",
     "output_type": "stream",
     "text": [
      "  0  1  2  3  4  5  6  7  8  9   ... 48 49 50 51 52 53 54 55 56 57\n",
      "0  t  a  c  t  a  g  c  a  a  t  ...  g  c  t  t  g  t  c  g  t  +\n",
      "1  t  g  c  t  a  t  c  c  t  g  ...  c  a  t  c  g  c  c  a  a  +\n",
      "2  g  t  a  c  t  a  g  a  g  a  ...  c  a  c  c  c  g  g  c  g  +\n",
      "3  a  a  t  t  g  t  g  a  t  g  ...  a  a  c  a  a  a  c  t  c  +\n",
      "4  t  c  g  a  t  a  a  t  t  a  ...  c  c  g  t  g  g  t  a  g  +\n",
      "\n",
      "[5 rows x 58 columns]\n"
     ]
    }
   ],
   "source": [
    "df = dframe.transpose()\n",
    "print(df.iloc[:5])"
   ]
  },
  {
   "cell_type": "code",
   "execution_count": 8,
   "id": "45574a4c",
   "metadata": {
    "echo": true
   },
   "outputs": [
    {
     "name": "stdout",
     "output_type": "stream",
     "text": [
      "   0  1  2  3  4  5  6  7  8  9  ... 48 49 50 51 52 53 54 55 56 Class\n",
      "0  t  a  c  t  a  g  c  a  a  t  ...  g  c  t  t  g  t  c  g  t     +\n",
      "1  t  g  c  t  a  t  c  c  t  g  ...  c  a  t  c  g  c  c  a  a     +\n",
      "2  g  t  a  c  t  a  g  a  g  a  ...  c  a  c  c  c  g  g  c  g     +\n",
      "3  a  a  t  t  g  t  g  a  t  g  ...  a  a  c  a  a  a  c  t  c     +\n",
      "4  t  c  g  a  t  a  a  t  t  a  ...  c  c  g  t  g  g  t  a  g     +\n",
      "\n",
      "[5 rows x 58 columns]\n"
     ]
    }
   ],
   "source": [
    "df.rename(columns = {57: 'Class'}, inplace = True) \n",
    "print(df.iloc[:5])"
   ]
  },
  {
   "cell_type": "code",
   "execution_count": 9,
   "id": "bdc127e2",
   "metadata": {
    "echo": true
   },
   "outputs": [
    {
     "data": {
      "text/html": [
       "<div>\n",
       "<style scoped>\n",
       "    .dataframe tbody tr th:only-of-type {\n",
       "        vertical-align: middle;\n",
       "    }\n",
       "\n",
       "    .dataframe tbody tr th {\n",
       "        vertical-align: top;\n",
       "    }\n",
       "\n",
       "    .dataframe thead th {\n",
       "        text-align: right;\n",
       "    }\n",
       "</style>\n",
       "<table border=\"1\" class=\"dataframe\">\n",
       "  <thead>\n",
       "    <tr style=\"text-align: right;\">\n",
       "      <th></th>\n",
       "      <th>0</th>\n",
       "      <th>1</th>\n",
       "      <th>2</th>\n",
       "      <th>3</th>\n",
       "      <th>4</th>\n",
       "      <th>5</th>\n",
       "      <th>6</th>\n",
       "      <th>7</th>\n",
       "      <th>8</th>\n",
       "      <th>9</th>\n",
       "      <th>...</th>\n",
       "      <th>48</th>\n",
       "      <th>49</th>\n",
       "      <th>50</th>\n",
       "      <th>51</th>\n",
       "      <th>52</th>\n",
       "      <th>53</th>\n",
       "      <th>54</th>\n",
       "      <th>55</th>\n",
       "      <th>56</th>\n",
       "      <th>Class</th>\n",
       "    </tr>\n",
       "  </thead>\n",
       "  <tbody>\n",
       "    <tr>\n",
       "      <th>count</th>\n",
       "      <td>106</td>\n",
       "      <td>106</td>\n",
       "      <td>106</td>\n",
       "      <td>106</td>\n",
       "      <td>106</td>\n",
       "      <td>106</td>\n",
       "      <td>106</td>\n",
       "      <td>106</td>\n",
       "      <td>106</td>\n",
       "      <td>106</td>\n",
       "      <td>...</td>\n",
       "      <td>106</td>\n",
       "      <td>106</td>\n",
       "      <td>106</td>\n",
       "      <td>106</td>\n",
       "      <td>106</td>\n",
       "      <td>106</td>\n",
       "      <td>106</td>\n",
       "      <td>106</td>\n",
       "      <td>106</td>\n",
       "      <td>106</td>\n",
       "    </tr>\n",
       "    <tr>\n",
       "      <th>unique</th>\n",
       "      <td>4</td>\n",
       "      <td>4</td>\n",
       "      <td>4</td>\n",
       "      <td>4</td>\n",
       "      <td>4</td>\n",
       "      <td>4</td>\n",
       "      <td>4</td>\n",
       "      <td>4</td>\n",
       "      <td>4</td>\n",
       "      <td>4</td>\n",
       "      <td>...</td>\n",
       "      <td>4</td>\n",
       "      <td>4</td>\n",
       "      <td>4</td>\n",
       "      <td>4</td>\n",
       "      <td>4</td>\n",
       "      <td>4</td>\n",
       "      <td>4</td>\n",
       "      <td>4</td>\n",
       "      <td>4</td>\n",
       "      <td>2</td>\n",
       "    </tr>\n",
       "    <tr>\n",
       "      <th>top</th>\n",
       "      <td>t</td>\n",
       "      <td>a</td>\n",
       "      <td>a</td>\n",
       "      <td>c</td>\n",
       "      <td>a</td>\n",
       "      <td>a</td>\n",
       "      <td>a</td>\n",
       "      <td>a</td>\n",
       "      <td>a</td>\n",
       "      <td>a</td>\n",
       "      <td>...</td>\n",
       "      <td>c</td>\n",
       "      <td>c</td>\n",
       "      <td>c</td>\n",
       "      <td>t</td>\n",
       "      <td>t</td>\n",
       "      <td>c</td>\n",
       "      <td>c</td>\n",
       "      <td>t</td>\n",
       "      <td>t</td>\n",
       "      <td>-</td>\n",
       "    </tr>\n",
       "    <tr>\n",
       "      <th>freq</th>\n",
       "      <td>38</td>\n",
       "      <td>34</td>\n",
       "      <td>30</td>\n",
       "      <td>30</td>\n",
       "      <td>36</td>\n",
       "      <td>42</td>\n",
       "      <td>38</td>\n",
       "      <td>34</td>\n",
       "      <td>33</td>\n",
       "      <td>36</td>\n",
       "      <td>...</td>\n",
       "      <td>36</td>\n",
       "      <td>42</td>\n",
       "      <td>31</td>\n",
       "      <td>33</td>\n",
       "      <td>35</td>\n",
       "      <td>32</td>\n",
       "      <td>29</td>\n",
       "      <td>29</td>\n",
       "      <td>34</td>\n",
       "      <td>53</td>\n",
       "    </tr>\n",
       "  </tbody>\n",
       "</table>\n",
       "<p>4 rows × 58 columns</p>\n",
       "</div>"
      ],
      "text/plain": [
       "          0    1    2    3    4    5    6    7    8    9  ...   48   49   50  \\\n",
       "count   106  106  106  106  106  106  106  106  106  106  ...  106  106  106   \n",
       "unique    4    4    4    4    4    4    4    4    4    4  ...    4    4    4   \n",
       "top       t    a    a    c    a    a    a    a    a    a  ...    c    c    c   \n",
       "freq     38   34   30   30   36   42   38   34   33   36  ...   36   42   31   \n",
       "\n",
       "         51   52   53   54   55   56 Class  \n",
       "count   106  106  106  106  106  106   106  \n",
       "unique    4    4    4    4    4    4     2  \n",
       "top       t    t    c    c    t    t     -  \n",
       "freq     33   35   32   29   29   34    53  \n",
       "\n",
       "[4 rows x 58 columns]"
      ]
     },
     "execution_count": 9,
     "metadata": {},
     "output_type": "execute_result"
    }
   ],
   "source": [
    "df.describe()"
   ]
  },
  {
   "cell_type": "code",
   "execution_count": 10,
   "id": "55d11368",
   "metadata": {
    "echo": true
   },
   "outputs": [
    {
     "name": "stdout",
     "output_type": "stream",
     "text": [
      "      0     1     2     3     4     5     6     7     8     9  ...    48  \\\n",
      "t  38.0  26.0  27.0  26.0  22.0  24.0  30.0  32.0  32.0  28.0  ...  21.0   \n",
      "c  27.0  22.0  21.0  30.0  19.0  18.0  21.0  20.0  22.0  22.0  ...  36.0   \n",
      "a  26.0  34.0  30.0  22.0  36.0  42.0  38.0  34.0  33.0  36.0  ...  23.0   \n",
      "g  15.0  24.0  28.0  28.0  29.0  22.0  17.0  20.0  19.0  20.0  ...  26.0   \n",
      "-   NaN   NaN   NaN   NaN   NaN   NaN   NaN   NaN   NaN   NaN  ...   NaN   \n",
      "+   NaN   NaN   NaN   NaN   NaN   NaN   NaN   NaN   NaN   NaN  ...   NaN   \n",
      "\n",
      "     49    50    51    52    53    54    55    56  Class  \n",
      "t  22.0  23.0  33.0  35.0  30.0  23.0  29.0  34.0    NaN  \n",
      "c  42.0  31.0  32.0  21.0  32.0  29.0  29.0  17.0    NaN  \n",
      "a  24.0  28.0  27.0  25.0  22.0  26.0  24.0  27.0    NaN  \n",
      "g  18.0  24.0  14.0  25.0  22.0  28.0  24.0  28.0    NaN  \n",
      "-   NaN   NaN   NaN   NaN   NaN   NaN   NaN   NaN   53.0  \n",
      "+   NaN   NaN   NaN   NaN   NaN   NaN   NaN   NaN   53.0  \n",
      "\n",
      "[6 rows x 58 columns]\n"
     ]
    }
   ],
   "source": [
    "series = []\n",
    "for name in df.columns:\n",
    "    series.append(df[name].value_counts())\n",
    "\n",
    "info = pd.DataFrame(series)\n",
    "details = info.transpose()\n",
    "print(details)"
   ]
  },
  {
   "cell_type": "code",
   "execution_count": 11,
   "id": "22deeed5",
   "metadata": {
    "echo": true
   },
   "outputs": [
    {
     "data": {
      "text/html": [
       "<div>\n",
       "<style scoped>\n",
       "    .dataframe tbody tr th:only-of-type {\n",
       "        vertical-align: middle;\n",
       "    }\n",
       "\n",
       "    .dataframe tbody tr th {\n",
       "        vertical-align: top;\n",
       "    }\n",
       "\n",
       "    .dataframe thead th {\n",
       "        text-align: right;\n",
       "    }\n",
       "</style>\n",
       "<table border=\"1\" class=\"dataframe\">\n",
       "  <thead>\n",
       "    <tr style=\"text-align: right;\">\n",
       "      <th></th>\n",
       "      <th>0_a</th>\n",
       "      <th>0_c</th>\n",
       "      <th>0_g</th>\n",
       "      <th>0_t</th>\n",
       "      <th>1_a</th>\n",
       "      <th>1_c</th>\n",
       "      <th>1_g</th>\n",
       "      <th>1_t</th>\n",
       "      <th>2_a</th>\n",
       "      <th>2_c</th>\n",
       "      <th>...</th>\n",
       "      <th>55_a</th>\n",
       "      <th>55_c</th>\n",
       "      <th>55_g</th>\n",
       "      <th>55_t</th>\n",
       "      <th>56_a</th>\n",
       "      <th>56_c</th>\n",
       "      <th>56_g</th>\n",
       "      <th>56_t</th>\n",
       "      <th>Class_+</th>\n",
       "      <th>Class_-</th>\n",
       "    </tr>\n",
       "  </thead>\n",
       "  <tbody>\n",
       "    <tr>\n",
       "      <th>0</th>\n",
       "      <td>0</td>\n",
       "      <td>0</td>\n",
       "      <td>0</td>\n",
       "      <td>1</td>\n",
       "      <td>1</td>\n",
       "      <td>0</td>\n",
       "      <td>0</td>\n",
       "      <td>0</td>\n",
       "      <td>0</td>\n",
       "      <td>1</td>\n",
       "      <td>...</td>\n",
       "      <td>0</td>\n",
       "      <td>0</td>\n",
       "      <td>1</td>\n",
       "      <td>0</td>\n",
       "      <td>0</td>\n",
       "      <td>0</td>\n",
       "      <td>0</td>\n",
       "      <td>1</td>\n",
       "      <td>1</td>\n",
       "      <td>0</td>\n",
       "    </tr>\n",
       "    <tr>\n",
       "      <th>1</th>\n",
       "      <td>0</td>\n",
       "      <td>0</td>\n",
       "      <td>0</td>\n",
       "      <td>1</td>\n",
       "      <td>0</td>\n",
       "      <td>0</td>\n",
       "      <td>1</td>\n",
       "      <td>0</td>\n",
       "      <td>0</td>\n",
       "      <td>1</td>\n",
       "      <td>...</td>\n",
       "      <td>1</td>\n",
       "      <td>0</td>\n",
       "      <td>0</td>\n",
       "      <td>0</td>\n",
       "      <td>1</td>\n",
       "      <td>0</td>\n",
       "      <td>0</td>\n",
       "      <td>0</td>\n",
       "      <td>1</td>\n",
       "      <td>0</td>\n",
       "    </tr>\n",
       "    <tr>\n",
       "      <th>2</th>\n",
       "      <td>0</td>\n",
       "      <td>0</td>\n",
       "      <td>1</td>\n",
       "      <td>0</td>\n",
       "      <td>0</td>\n",
       "      <td>0</td>\n",
       "      <td>0</td>\n",
       "      <td>1</td>\n",
       "      <td>1</td>\n",
       "      <td>0</td>\n",
       "      <td>...</td>\n",
       "      <td>0</td>\n",
       "      <td>1</td>\n",
       "      <td>0</td>\n",
       "      <td>0</td>\n",
       "      <td>0</td>\n",
       "      <td>0</td>\n",
       "      <td>1</td>\n",
       "      <td>0</td>\n",
       "      <td>1</td>\n",
       "      <td>0</td>\n",
       "    </tr>\n",
       "    <tr>\n",
       "      <th>3</th>\n",
       "      <td>1</td>\n",
       "      <td>0</td>\n",
       "      <td>0</td>\n",
       "      <td>0</td>\n",
       "      <td>1</td>\n",
       "      <td>0</td>\n",
       "      <td>0</td>\n",
       "      <td>0</td>\n",
       "      <td>0</td>\n",
       "      <td>0</td>\n",
       "      <td>...</td>\n",
       "      <td>0</td>\n",
       "      <td>0</td>\n",
       "      <td>0</td>\n",
       "      <td>1</td>\n",
       "      <td>0</td>\n",
       "      <td>1</td>\n",
       "      <td>0</td>\n",
       "      <td>0</td>\n",
       "      <td>1</td>\n",
       "      <td>0</td>\n",
       "    </tr>\n",
       "    <tr>\n",
       "      <th>4</th>\n",
       "      <td>0</td>\n",
       "      <td>0</td>\n",
       "      <td>0</td>\n",
       "      <td>1</td>\n",
       "      <td>0</td>\n",
       "      <td>1</td>\n",
       "      <td>0</td>\n",
       "      <td>0</td>\n",
       "      <td>0</td>\n",
       "      <td>0</td>\n",
       "      <td>...</td>\n",
       "      <td>1</td>\n",
       "      <td>0</td>\n",
       "      <td>0</td>\n",
       "      <td>0</td>\n",
       "      <td>0</td>\n",
       "      <td>0</td>\n",
       "      <td>1</td>\n",
       "      <td>0</td>\n",
       "      <td>1</td>\n",
       "      <td>0</td>\n",
       "    </tr>\n",
       "  </tbody>\n",
       "</table>\n",
       "<p>5 rows × 230 columns</p>\n",
       "</div>"
      ],
      "text/plain": [
       "   0_a  0_c  0_g  0_t  1_a  1_c  1_g  1_t  2_a  2_c  ...  55_a  55_c  55_g  \\\n",
       "0    0    0    0    1    1    0    0    0    0    1  ...     0     0     1   \n",
       "1    0    0    0    1    0    0    1    0    0    1  ...     1     0     0   \n",
       "2    0    0    1    0    0    0    0    1    1    0  ...     0     1     0   \n",
       "3    1    0    0    0    1    0    0    0    0    0  ...     0     0     0   \n",
       "4    0    0    0    1    0    1    0    0    0    0  ...     1     0     0   \n",
       "\n",
       "   55_t  56_a  56_c  56_g  56_t  Class_+  Class_-  \n",
       "0     0     0     0     0     1        1        0  \n",
       "1     0     1     0     0     0        1        0  \n",
       "2     0     0     0     1     0        1        0  \n",
       "3     1     0     1     0     0        1        0  \n",
       "4     0     0     0     1     0        1        0  \n",
       "\n",
       "[5 rows x 230 columns]"
      ]
     },
     "execution_count": 11,
     "metadata": {},
     "output_type": "execute_result"
    }
   ],
   "source": [
    "numerical_df = pd.get_dummies(df)\n",
    "numerical_df.iloc[:5]"
   ]
  },
  {
   "cell_type": "markdown",
   "id": "8fdf5e38",
   "metadata": {},
   "source": [
    "이렇게 더미 변수로 바꾸면 모든 값이 0 또는 1 값으로 구성된 이진 값이 된다. \n",
    "\n",
    "끝을 보면 `Class_+`, `Class_-` 열이 있다. 이것 약간 정보 과잉이다. 왜냐하면 처음 클래스를 알고 있다면, 두 번째는 자동으로 결정되기 때문이다. 그래서 `Class` 열을 하나 삭제하고 남은 열을 `Class`라로 명명한다."
   ]
  },
  {
   "cell_type": "code",
   "execution_count": 12,
   "id": "c2537510",
   "metadata": {
    "echo": true
   },
   "outputs": [
    {
     "name": "stdout",
     "output_type": "stream",
     "text": [
      "   0_a  0_c  0_g  0_t  1_a  1_c  1_g  1_t  2_a  2_c  ...  54_t  55_a  55_c  \\\n",
      "0    0    0    0    1    1    0    0    0    0    1  ...     0     0     0   \n",
      "1    0    0    0    1    0    0    1    0    0    1  ...     0     1     0   \n",
      "2    0    0    1    0    0    0    0    1    1    0  ...     0     0     1   \n",
      "3    1    0    0    0    1    0    0    0    0    0  ...     0     0     0   \n",
      "4    0    0    0    1    0    1    0    0    0    0  ...     1     1     0   \n",
      "\n",
      "   55_g  55_t  56_a  56_c  56_g  56_t  Class  \n",
      "0     1     0     0     0     0     1      1  \n",
      "1     0     0     1     0     0     0      1  \n",
      "2     0     0     0     0     1     0      1  \n",
      "3     0     1     0     1     0     0      1  \n",
      "4     0     0     0     0     1     0      1  \n",
      "\n",
      "[5 rows x 229 columns]\n"
     ]
    }
   ],
   "source": [
    "df = numerical_df.drop(columns=['Class_-'])\n",
    "df.rename(columns = {'Class_+': 'Class'}, inplace = True)\n",
    "print(df.iloc[:5])"
   ]
  },
  {
   "cell_type": "code",
   "execution_count": 13,
   "id": "bad92605",
   "metadata": {
    "echo": true
   },
   "outputs": [
    {
     "name": "stdout",
     "output_type": "stream",
     "text": [
      "0_a      0\n",
      "0_c      0\n",
      "0_g      1\n",
      "0_t      0\n",
      "1_a      1\n",
      "        ..\n",
      "56_a     1\n",
      "56_c     0\n",
      "56_g     0\n",
      "56_t     0\n",
      "Class    0\n",
      "Name: 60, Length: 229, dtype: uint8\n"
     ]
    }
   ],
   "source": [
    "print(df.iloc[60])"
   ]
  },
  {
   "cell_type": "markdown",
   "id": "d938ce8a",
   "metadata": {},
   "source": [
    "## 데이터셋 분리\n",
    "\n",
    "\n",
    "먼저 `sklearn` 라이브러에서 필요한 알고리즘을 임포트한다. "
   ]
  },
  {
   "cell_type": "code",
   "execution_count": 14,
   "id": "501dc475",
   "metadata": {
    "echo": true
   },
   "outputs": [],
   "source": [
    "from sklearn.neighbors import KNeighborsClassifier\n",
    "from sklearn.neural_network import MLPClassifier\n",
    "from sklearn.gaussian_process import GaussianProcessClassifier\n",
    "from sklearn.gaussian_process.kernels import RBF\n",
    "from sklearn.tree import DecisionTreeClassifier\n",
    "from sklearn.ensemble import RandomForestClassifier, AdaBoostClassifier\n",
    "from sklearn.naive_bayes import GaussianNB\n",
    "from sklearn.svm import SVC\n",
    "from sklearn.metrics import classification_report, accuracy_score"
   ]
  },
  {
   "cell_type": "code",
   "execution_count": 15,
   "id": "b478511e",
   "metadata": {
    "echo": true
   },
   "outputs": [],
   "source": [
    "from sklearn import model_selection\n",
    "\n",
    "# 훈련 데이터 X, Y을 만든다.\n",
    "X = np.array(df.drop(['Class'], 1))\n",
    "y = np.array(df['Class'])\n",
    "\n",
    "# 재현성을 위해서 시드를 정한다.\n",
    "seed = 1\n",
    "\n",
    "# 훈련 데이터와 테스트 데이터로 나눈다.\n",
    "X_train, X_test, y_train, y_test = model_selection.train_test_split(X, y, test_size=0.25, random_state=seed)"
   ]
  },
  {
   "cell_type": "code",
   "execution_count": 16,
   "id": "62b67a80",
   "metadata": {
    "echo": true
   },
   "outputs": [
    {
     "name": "stdout",
     "output_type": "stream",
     "text": [
      "Nearest Neighbors: 0.810714 (0.099808)\n"
     ]
    },
    {
     "name": "stderr",
     "output_type": "stream",
     "text": [
      "/Users/brainiac/opt/anaconda3/envs/ml4hap/lib/python3.8/site-packages/sklearn/gaussian_process/kernels.py:402: ConvergenceWarning: The optimal value found for dimension 0 of parameter k1__constant_value is close to the specified lower bound 1e-05. Decreasing the bound and calling fit again may find a better value.\n",
      "  warnings.warn(\"The optimal value found for \"\n"
     ]
    },
    {
     "name": "stdout",
     "output_type": "stream",
     "text": [
      "Gaussian Process: 0.855357 (0.160605)\n",
      "Decision Tree: 0.632143 (0.143347)\n",
      "Random Forest: 0.700000 (0.160078)\n",
      "Neural Net: 0.900000 (0.093541)\n",
      "AdaBoost: 0.862500 (0.141973)\n",
      "Naive Bayes: 0.837500 (0.112500)\n",
      "SVM Linear: 0.912500 (0.097628)\n",
      "SVM RBF: 0.875000 (0.111803)\n",
      "SVM Sigmoid: 0.925000 (0.100000)\n"
     ]
    }
   ],
   "source": [
    "# 평가 지표를 정한다.\n",
    "scoring = 'accuracy'\n",
    "\n",
    "# 학습시킬 모델을 정의\n",
    "names = [\"Nearest Neighbors\", \"Gaussian Process\",\n",
    "         \"Decision Tree\", \"Random Forest\", \"Neural Net\", \"AdaBoost\",\n",
    "         \"Naive Bayes\", \"SVM Linear\", \"SVM RBF\", \"SVM Sigmoid\"]\n",
    "\n",
    "classifiers = [\n",
    "    KNeighborsClassifier(n_neighbors = 3),\n",
    "    GaussianProcessClassifier(1.0 * RBF(1.0)),\n",
    "    DecisionTreeClassifier(max_depth=5),\n",
    "    RandomForestClassifier(max_depth=5, n_estimators=10,  \n",
    "    max_features=1),\n",
    "    MLPClassifier(alpha=1, max_iter=500),\n",
    "    AdaBoostClassifier(),\n",
    "    GaussianNB(),\n",
    "    SVC(kernel = 'linear'), \n",
    "    SVC(kernel = 'rbf'),\n",
    "    SVC(kernel = 'sigmoid')\n",
    "]\n",
    "\n",
    "models = zip(names, classifiers)\n",
    "\n",
    "# 모델을 하나씩 평가한다.\n",
    "results = []\n",
    "names = []\n",
    "\n",
    "for name, model in models:\n",
    "    kfold = model_selection.KFold(n_splits=10, random_state = seed, shuffle=True)\n",
    "    cv_results = model_selection.cross_val_score(model, X_train, y_train, cv=kfold, scoring=scoring)\n",
    "    results.append(cv_results)\n",
    "    names.append(name)\n",
    "    msg = \"%s: %f (%f)\" % (name, cv_results.mean(), cv_results.std())\n",
    "    print(msg)"
   ]
  },
  {
   "cell_type": "code",
   "execution_count": 17,
   "id": "66a25490",
   "metadata": {},
   "outputs": [
    {
     "name": "stdout",
     "output_type": "stream",
     "text": [
      "Nearest Neighbors\n",
      "0.7777777777777778\n",
      "              precision    recall  f1-score   support\n",
      "\n",
      "           0       1.00      0.65      0.79        17\n",
      "           1       0.62      1.00      0.77        10\n",
      "\n",
      "    accuracy                           0.78        27\n",
      "   macro avg       0.81      0.82      0.78        27\n",
      "weighted avg       0.86      0.78      0.78        27\n",
      "\n",
      "Gaussian Process\n",
      "0.8888888888888888\n",
      "              precision    recall  f1-score   support\n",
      "\n",
      "           0       1.00      0.82      0.90        17\n",
      "           1       0.77      1.00      0.87        10\n",
      "\n",
      "    accuracy                           0.89        27\n",
      "   macro avg       0.88      0.91      0.89        27\n",
      "weighted avg       0.91      0.89      0.89        27\n",
      "\n",
      "Decision Tree\n",
      "0.8148148148148148\n",
      "              precision    recall  f1-score   support\n",
      "\n",
      "           0       1.00      0.71      0.83        17\n",
      "           1       0.67      1.00      0.80        10\n",
      "\n",
      "    accuracy                           0.81        27\n",
      "   macro avg       0.83      0.85      0.81        27\n",
      "weighted avg       0.88      0.81      0.82        27\n",
      "\n",
      "Random Forest\n",
      "0.4444444444444444\n",
      "              precision    recall  f1-score   support\n",
      "\n",
      "           0       0.62      0.29      0.40        17\n",
      "           1       0.37      0.70      0.48        10\n",
      "\n",
      "    accuracy                           0.44        27\n",
      "   macro avg       0.50      0.50      0.44        27\n",
      "weighted avg       0.53      0.44      0.43        27\n",
      "\n",
      "Neural Net\n",
      "0.9259259259259259\n",
      "              precision    recall  f1-score   support\n",
      "\n",
      "           0       1.00      0.88      0.94        17\n",
      "           1       0.83      1.00      0.91        10\n",
      "\n",
      "    accuracy                           0.93        27\n",
      "   macro avg       0.92      0.94      0.92        27\n",
      "weighted avg       0.94      0.93      0.93        27\n",
      "\n",
      "AdaBoost\n",
      "0.8518518518518519\n",
      "              precision    recall  f1-score   support\n",
      "\n",
      "           0       1.00      0.76      0.87        17\n",
      "           1       0.71      1.00      0.83        10\n",
      "\n",
      "    accuracy                           0.85        27\n",
      "   macro avg       0.86      0.88      0.85        27\n",
      "weighted avg       0.89      0.85      0.85        27\n",
      "\n",
      "Naive Bayes\n",
      "0.9259259259259259\n",
      "              precision    recall  f1-score   support\n",
      "\n",
      "           0       1.00      0.88      0.94        17\n",
      "           1       0.83      1.00      0.91        10\n",
      "\n",
      "    accuracy                           0.93        27\n",
      "   macro avg       0.92      0.94      0.92        27\n",
      "weighted avg       0.94      0.93      0.93        27\n",
      "\n",
      "SVM Linear\n",
      "0.9629629629629629\n",
      "              precision    recall  f1-score   support\n",
      "\n",
      "           0       1.00      0.94      0.97        17\n",
      "           1       0.91      1.00      0.95        10\n",
      "\n",
      "    accuracy                           0.96        27\n",
      "   macro avg       0.95      0.97      0.96        27\n",
      "weighted avg       0.97      0.96      0.96        27\n",
      "\n",
      "SVM RBF\n",
      "0.9259259259259259\n",
      "              precision    recall  f1-score   support\n",
      "\n",
      "           0       1.00      0.88      0.94        17\n",
      "           1       0.83      1.00      0.91        10\n",
      "\n",
      "    accuracy                           0.93        27\n",
      "   macro avg       0.92      0.94      0.92        27\n",
      "weighted avg       0.94      0.93      0.93        27\n",
      "\n",
      "SVM Sigmoid\n",
      "0.9259259259259259\n",
      "              precision    recall  f1-score   support\n",
      "\n",
      "           0       1.00      0.88      0.94        17\n",
      "           1       0.83      1.00      0.91        10\n",
      "\n",
      "    accuracy                           0.93        27\n",
      "   macro avg       0.92      0.94      0.92        27\n",
      "weighted avg       0.94      0.93      0.93        27\n",
      "\n"
     ]
    }
   ],
   "source": [
    "models = zip(names, classifiers)\n",
    "for name, model in models:\n",
    "    model.fit(X_train, y_train)\n",
    "    predictions = model.predict(X_test)\n",
    "    print(name)\n",
    "    print(accuracy_score(y_test, predictions))\n",
    "    print(classification_report(y_test, predictions))"
   ]
  }
 ],
 "metadata": {
  "jupytext": {
   "cell_metadata_filter": "tags,echo,name,fig.cap,-all",
   "notebook_metadata_filter": "-all",
   "text_representation": {
    "extension": ".Rmd",
    "format_name": "rmarkdown"
   }
  },
  "kernelspec": {
   "display_name": "Python 3",
   "language": "python",
   "name": "python3"
  },
  "language_info": {
   "codemirror_mode": {
    "name": "ipython",
    "version": 3
   },
   "file_extension": ".py",
   "mimetype": "text/x-python",
   "name": "python",
   "nbconvert_exporter": "python",
   "pygments_lexer": "ipython3",
   "version": "3.8.6"
  }
 },
 "nbformat": 4,
 "nbformat_minor": 5
}
